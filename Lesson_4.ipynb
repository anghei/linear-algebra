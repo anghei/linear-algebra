{
 "cells": [
  {
   "cell_type": "code",
   "execution_count": 1,
   "metadata": {},
   "outputs": [],
   "source": [
    "import numpy as np"
   ]
  },
  {
   "cell_type": "markdown",
   "metadata": {},
   "source": [
    "__1.__ Решить систему уравнений методом Гаусса:\n",
    "\n",
    "$$\\begin{cases}\n",
    "x_{1}+x_{2}-x_{3}-2x_{4}=0, \\\\\n",
    "2x_{1}+x_{2}-x_{3}+x_{4}=-2, \\\\\n",
    "x_{1}+x_{2}-3x_{3}+x_{4}=4.\n",
    "\\end{cases}$$\n",
    "\n"
   ]
  },
  {
   "cell_type": "code",
   "execution_count": 2,
   "metadata": {},
   "outputs": [],
   "source": [
    "M1 = np.array([[1,1,-1,-2], # Матрица коэффициентов (левая часть СЛАУ)\n",
    "             [2,1,-1,1],\n",
    "             [1,1,-3,1]]\n",
    "             )\n",
    "M_ext = np.array([[1,1,-1,-2,0], # Расширенная матрица\n",
    "             [2,1,-1,1,-2],\n",
    "             [1,1,-3,1,4]]\n",
    "             )\n",
    "\n",
    "v1 = np.array([0,-2,4]) # Вектор (правая часть СЛАУ)"
   ]
  },
  {
   "cell_type": "code",
   "execution_count": 3,
   "metadata": {},
   "outputs": [],
   "source": [
    "def isRankSimilar(a: list, b: list) -> bool:\n",
    "    if np.linalg.matrix_rank(a) == np.linalg.matrix_rank(b):\n",
    "        return True\n",
    "    else:\n",
    "        return False"
   ]
  },
  {
   "cell_type": "code",
   "execution_count": 4,
   "metadata": {},
   "outputs": [
    {
     "name": "stdout",
     "output_type": "stream",
     "text": [
      "Ранги матрицы коэффициентов и расширенной матрицы равны, но при этом меньше количества неизвестных,\n",
      "следовательно система имеет бесконечное количество решений\n"
     ]
    }
   ],
   "source": [
    "if isRankSimilar(M1, M_ext) and np.linalg.matrix_rank(M1) != len(M1[0]):\n",
    "    print('Ранги матрицы коэффициентов и расширенной матрицы равны, но при этом меньше количества неизвестных,\\nследовательно система имеет бесконечное количество решений')"
   ]
  },
  {
   "cell_type": "markdown",
   "metadata": {},
   "source": [
    "__2.__ Проверить на совместность и выяснить, сколько решений будет иметь система линейных уравнений:\n",
    "\n",
    "   а) $\\begin{cases}\n",
    "3x_{1}-x_{2}+x_{3}=4, \\\\\n",
    "2x_{1}-5x_{2}-3x_{3}=-17, \\\\\n",
    "x_{1}+x_{2}-x_{3}=0;\n",
    "\\end{cases}$\n",
    "    \n",
    "   б) $\\begin{cases}\n",
    "2x_{1}-4x_{2}+6x_{3}=1, \\\\\n",
    "x_{1}-2x_{2}+3x_{3}=-2, \\\\\n",
    "3x_{1}-6x_{2}+9x_{3}=5;\n",
    "\\end{cases}$\n",
    "    \n",
    "   в) $\\begin{cases}\n",
    "x_{1}+2x_{2}+5x_{3}=4, \\\\\n",
    "3x_{1}+x_{2}-8x_{3}=-2. \n",
    "\\end{cases}$\n"
   ]
  },
  {
   "cell_type": "code",
   "execution_count": 30,
   "metadata": {},
   "outputs": [
    {
     "name": "stdout",
     "output_type": "stream",
     "text": [
      "Система совместна и имеет единственное решение\n"
     ]
    }
   ],
   "source": [
    "A1 = np.array([[3, -1, 1, 4], [2, -5, -3, -17], [1, 1, -3, 0]])\n",
    "A = np.array([[3, -1, 1], [2, -5, -3], [1, 1, -3]])\n",
    "\n",
    "if isRankSimilar(A1, A) and np.linalg.matrix_rank(A1) != len(A1[0]): \n",
    "    print(f'Система совместна и имеет единственное решение')\n",
    "else:\n",
    "    print(f'Система несовместна')"
   ]
  },
  {
   "cell_type": "code",
   "execution_count": 31,
   "metadata": {},
   "outputs": [
    {
     "name": "stdout",
     "output_type": "stream",
     "text": [
      "Система несовместна\n"
     ]
    }
   ],
   "source": [
    "B1 = np.array([[2, -4, 6, 1], [1, -2, 3, -2], [3, -6, 9, 5]])\n",
    "B = np.array([[2, -4, 6], [1, -2, 3], [3, -6, 9]])\n",
    "\n",
    "if isRankSimilar(B1, B) and np.linalg.matrix_rank(B1) != len(B1[0]):\n",
    "    print(f'Система совместна и имеет единственное решение')\n",
    "else:\n",
    "    print(f'Система несовместна')"
   ]
  },
  {
   "cell_type": "code",
   "execution_count": 32,
   "metadata": {},
   "outputs": [
    {
     "name": "stdout",
     "output_type": "stream",
     "text": [
      "Система совместна и имеет единственное решение\n"
     ]
    }
   ],
   "source": [
    "C1 = np.array([[1, 2, 5, 4], [3, 1, -8, -2]])\n",
    "C = np.array([[1, 2, 5], [3, 1, -8]])\n",
    "\n",
    "if isRankSimilar(C1, C) and np.linalg.matrix_rank(C1) != len(C1[0]):\n",
    "    print(f'Система совместна и имеет единственное решение')\n",
    "else:\n",
    "    print(f'Система несовместна')"
   ]
  },
  {
   "cell_type": "markdown",
   "metadata": {},
   "source": [
    "__3.__ Проверить на совместность и выяснить, сколько решений будет иметь система линейных уравнений, заданная расширенной матрицей\n",
    "\n",
    "$$\\tilde{A}=\\begin{pmatrix}\n",
    "\\left.\\begin{matrix}\n",
    "1 & 3 & -2 & 4\\\\ \n",
    "0 & 5 & 0 & 1\\\\ \n",
    "0 & 0 & 3 & 0\\\\ \n",
    "0 & 0 & 0 & 2\n",
    "\\end{matrix}\\right|\n",
    "\\begin{matrix}\n",
    "3\\\\ \n",
    "2\\\\\n",
    "4\\\\\n",
    "1\n",
    "\\end{matrix}\n",
    "\\end{pmatrix}.$$\n",
    "\n"
   ]
  },
  {
   "cell_type": "code",
   "execution_count": 8,
   "metadata": {},
   "outputs": [
    {
     "name": "stdout",
     "output_type": "stream",
     "text": [
      "Система совместна и имеет единственное решение\n"
     ]
    }
   ],
   "source": [
    "A1 = np.array([[1, 3, -2, 4, 3], [0, 5, 0, 1, 2], [0, 0, 3, 0, 4],[0, 0, 0, 2, 1]])\n",
    "A = np.array([[1, 3, -2, 4], [0, 5, 0, 1], [0, 0, 3, 0],[0, 0, 0, 2]])\n",
    "\n",
    "if isRankSimilar(A1, A):\n",
    "    print(f'Система совместна и имеет единственное решение')\n",
    "else:\n",
    "    print(f'Система несовместна')"
   ]
  },
  {
   "cell_type": "markdown",
   "metadata": {},
   "source": [
    "__4.__ Дана система линейных уравнений, заданная расширенной матрицей\n",
    "\n",
    "$$\\tilde{A}=\\begin{pmatrix}\n",
    "\\left.\\begin{matrix}\n",
    "1 & 2 & 3\\\\ \n",
    "4 & 5 & 6\\\\ \n",
    "7 & 8 & 9\n",
    "\\end{matrix}\\right|\n",
    "\\begin{matrix}\n",
    "a\\\\ \n",
    "b\\\\\n",
    "c\n",
    "\\end{matrix}\n",
    "\\end{pmatrix}.$$\n",
    "\n",
    "Найти соотношение между параметрами $a$, $b$ и $c$, при которых система является несовместной."
   ]
  },
  {
   "cell_type": "code",
   "execution_count": 28,
   "metadata": {},
   "outputs": [
    {
     "name": "stdout",
     "output_type": "stream",
     "text": [
      "[0 0 1]\n",
      "[0 0 2]\n",
      "[0 1 0]\n",
      "[0 1 1]\n",
      "[0 2 0]\n",
      "[0 2 1]\n",
      "[0 2 2]\n",
      "[1 0 0]\n",
      "[1 0 1]\n",
      "[1 0 2]\n",
      "[1 1 0]\n",
      "[1 1 2]\n",
      "[1 2 0]\n",
      "[1 2 1]\n",
      "[1 2 2]\n",
      "[2 0 0]\n",
      "[2 0 1]\n",
      "[2 0 2]\n",
      "[2 1 1]\n",
      "[2 1 2]\n",
      "[2 2 0]\n",
      "[2 2 1]\n"
     ]
    }
   ],
   "source": [
    "# Задача решена методом подбора, range(0,3) задан для упрощения задачи поиска коэффициентов.\n",
    "# В целом, учитывая результаты решения, можно сказать, что СЛАУ несовместна при условии что a, b, c неравны между собой.\n",
    "\n",
    "M1 = np.array([\n",
    "    [1,2,3],\n",
    "    [4,5,6],\n",
    "    [7,8,9]\n",
    "])\n",
    "\n",
    "\n",
    "a = [x for x in range(0,3)]\n",
    "b = [x for x in range(0,3)]\n",
    "c = [x for x in range(0,3)]\n",
    "\n",
    "for element_a in a:\n",
    "    for element_b in b:\n",
    "        for element_c in c:\n",
    "#             print (element_a, element_b, element_c)\n",
    "            M_with_abc = np.array([\n",
    "                [1,2,3,element_a],\n",
    "                [4,5,6, element_b],\n",
    "                [7,8,9, element_c]\n",
    "            ])\n",
    "            if isRankSimilar(M1, M_with_abc) is False:\n",
    "                array_abc = np.array([element_a, element_b, element_c])\n",
    "                print(array_abc)\n",
    "            \n",
    "# isRankSimilar(M1, M_with_abc)"
   ]
  },
  {
   "cell_type": "code",
   "execution_count": null,
   "metadata": {},
   "outputs": [],
   "source": []
  }
 ],
 "metadata": {
  "kernelspec": {
   "display_name": "Python 3",
   "language": "python",
   "name": "python3"
  },
  "language_info": {
   "codemirror_mode": {
    "name": "ipython",
    "version": 3
   },
   "file_extension": ".py",
   "mimetype": "text/x-python",
   "name": "python",
   "nbconvert_exporter": "python",
   "pygments_lexer": "ipython3",
   "version": "3.8.5"
  }
 },
 "nbformat": 4,
 "nbformat_minor": 5
}
