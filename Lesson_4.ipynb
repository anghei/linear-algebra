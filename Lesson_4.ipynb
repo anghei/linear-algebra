{
 "cells": [
  {
   "cell_type": "code",
   "execution_count": 1,
   "id": "f261b226",
   "metadata": {},
   "outputs": [],
   "source": [
    "import numpy as np"
   ]
  },
  {
   "cell_type": "markdown",
   "id": "8dfa05d4",
   "metadata": {},
   "source": [
    "__1.__ Решить систему уравнений методом Гаусса:\n",
    "\n",
    "$$\\begin{cases}\n",
    "x_{1}+x_{2}-x_{3}-2x_{4}=0, \\\\\n",
    "2x_{1}+x_{2}-x_{3}+x_{4}=-2, \\\\\n",
    "x_{1}+x_{2}-3x_{3}+x_{4}=4.\n",
    "\\end{cases}$$\n",
    "\n"
   ]
  },
  {
   "cell_type": "code",
   "execution_count": 2,
   "id": "dac91968",
   "metadata": {},
   "outputs": [],
   "source": [
    "M1 = np.array([[1,1,-1,-2], # Матрица коэффициентов (левая часть СЛАУ)\n",
    "             [2,1,-1,1],\n",
    "             [1,1,-3,1]]\n",
    "             )\n",
    "M_ext = np.array([[1,1,-1,-2,0], # Расширенная матрица\n",
    "             [2,1,-1,1,-2],\n",
    "             [1,1,-3,1,4]]\n",
    "             )\n",
    "\n",
    "v1 = np.array([0,-2,4]) # Вектор (правая часть СЛАУ)"
   ]
  },
  {
   "cell_type": "code",
   "execution_count": 3,
   "id": "ce1f9bc6",
   "metadata": {},
   "outputs": [],
   "source": [
    "def isRankSimilar(a: list, b: list) -> bool:\n",
    "    if np.linalg.matrix_rank(a) == np.linalg.matrix_rank(b):\n",
    "        return True\n",
    "    else:\n",
    "        return False"
   ]
  },
  {
   "cell_type": "code",
   "execution_count": 4,
   "id": "541d3fff",
   "metadata": {},
   "outputs": [
    {
     "name": "stdout",
     "output_type": "stream",
     "text": [
      "Ранги матрицы коэффициентов и расширенной матрицы равны, но при этом меньше количества неизвестных,\n",
      "следовательно система имеет бесконечное количество решений\n"
     ]
    }
   ],
   "source": [
    "if isRankSimilar(M1, M_ext) and np.linalg.matrix_rank(M1) != len(M1[0]):\n",
    "    print('Ранги матрицы коэффициентов и расширенной матрицы равны, но при этом меньше количества неизвестных,\\nследовательно система имеет бесконечное количество решений')"
   ]
  },
  {
   "cell_type": "markdown",
   "id": "76ed865c",
   "metadata": {},
   "source": [
    "__2.__ Проверить на совместность и выяснить, сколько решений будет иметь система линейных уравнений:\n",
    "\n",
    "   а) $\\begin{cases}\n",
    "3x_{1}-x_{2}+x_{3}=4, \\\\\n",
    "2x_{1}-5x_{2}-3x_{3}=-17, \\\\\n",
    "x_{1}+x_{2}-x_{3}=0;\n",
    "\\end{cases}$\n",
    "    \n",
    "   б) $\\begin{cases}\n",
    "2x_{1}-4x_{2}+6x_{3}=1, \\\\\n",
    "x_{1}-2x_{2}+3x_{3}=-2, \\\\\n",
    "3x_{1}-6x_{2}+9x_{3}=5;\n",
    "\\end{cases}$\n",
    "    \n",
    "   в) $\\begin{cases}\n",
    "x_{1}+2x_{2}+5x_{3}=4, \\\\\n",
    "3x_{1}+x_{2}-8x_{3}=-2. \n",
    "\\end{cases}$\n"
   ]
  },
  {
   "cell_type": "code",
   "execution_count": 5,
   "id": "124c51ca",
   "metadata": {},
   "outputs": [
    {
     "name": "stdout",
     "output_type": "stream",
     "text": [
      "Система совместна и имеет единственное решение\n"
     ]
    }
   ],
   "source": [
    "A1 = np.array([[3, -1, 1, 4], [2, -5, -3, -17], [1, 1, -3, 0]])\n",
    "A = np.array([[3, -1, 1], [2, -5, -3], [1, 1, -3]])\n",
    "\n",
    "if isRankSimilar(A1, A):\n",
    "    print(f'Система совместна и имеет единственное решение')\n",
    "else:\n",
    "    print(f'Система несовместна')"
   ]
  },
  {
   "cell_type": "code",
   "execution_count": 6,
   "id": "7a2a10d7",
   "metadata": {},
   "outputs": [
    {
     "name": "stdout",
     "output_type": "stream",
     "text": [
      "Система несовместна\n"
     ]
    }
   ],
   "source": [
    "B1 = np.array([[2, -4, 6, 1], [1, -2, 3, -2], [3, -6, 9, 5]])\n",
    "B = np.array([[2, -4, 6], [1, -2, 3], [3, -6, 9]])\n",
    "\n",
    "if isRankSimilar(B1, B):\n",
    "    print(f'Система совместна и имеет единственное решение')\n",
    "else:\n",
    "    print(f'Система несовместна')"
   ]
  },
  {
   "cell_type": "code",
   "execution_count": 7,
   "id": "e4f4ff1d",
   "metadata": {},
   "outputs": [
    {
     "name": "stdout",
     "output_type": "stream",
     "text": [
      "Система совместна и имеет единственное решение\n"
     ]
    }
   ],
   "source": [
    "C1 = np.array([[1, 2, 5, 4], [3, 1, -8, -2]])\n",
    "C = np.array([[1, 2, 5], [3, 1, -8]])\n",
    "\n",
    "if isRankSimilar(C1, C):\n",
    "    print(f'Система совместна и имеет единственное решение')\n",
    "else:\n",
    "    print(f'Система несовместна')"
   ]
  },
  {
   "cell_type": "markdown",
   "id": "c35e90ad",
   "metadata": {},
   "source": [
    "__3.__ Проверить на совместность и выяснить, сколько решений будет иметь система линейных уравнений, заданная расширенной матрицей\n",
    "\n",
    "$$\\tilde{A}=\\begin{pmatrix}\n",
    "\\left.\\begin{matrix}\n",
    "1 & 3 & -2 & 4\\\\ \n",
    "0 & 5 & 0 & 1\\\\ \n",
    "0 & 0 & 3 & 0\\\\ \n",
    "0 & 0 & 0 & 2\n",
    "\\end{matrix}\\right|\n",
    "\\begin{matrix}\n",
    "3\\\\ \n",
    "2\\\\\n",
    "4\\\\\n",
    "1\n",
    "\\end{matrix}\n",
    "\\end{pmatrix}.$$\n",
    "\n"
   ]
  },
  {
   "cell_type": "code",
   "execution_count": 8,
   "id": "b4e2d433",
   "metadata": {},
   "outputs": [
    {
     "name": "stdout",
     "output_type": "stream",
     "text": [
      "Система совместна и имеет единственное решение\n"
     ]
    }
   ],
   "source": [
    "A1 = np.array([[1, 3, -2, 4, 3], [0, 5, 0, 1, 2], [0, 0, 3, 0, 4],[0, 0, 0, 2, 1]])\n",
    "A = np.array([[1, 3, -2, 4], [0, 5, 0, 1], [0, 0, 3, 0],[0, 0, 0, 2]])\n",
    "\n",
    "if isRankSimilar(A1, A):\n",
    "    print(f'Система совместна и имеет единственное решение')\n",
    "else:\n",
    "    print(f'Система несовместна')"
   ]
  },
  {
   "cell_type": "markdown",
   "id": "37ad2f99-0e47-49ce-8d4f-963fe3b7f29d",
   "metadata": {},
   "source": [
    "__4.__ Дана система линейных уравнений, заданная расширенной матрицей\n",
    "\n",
    "$$\\tilde{A}=\\begin{pmatrix}\n",
    "\\left.\\begin{matrix}\n",
    "1 & 2 & 3\\\\ \n",
    "4 & 5 & 6\\\\ \n",
    "7 & 8 & 9\n",
    "\\end{matrix}\\right|\n",
    "\\begin{matrix}\n",
    "a\\\\ \n",
    "b\\\\\n",
    "c\n",
    "\\end{matrix}\n",
    "\\end{pmatrix}.$$\n",
    "\n",
    "Найти соотношение между параметрами $a$, $b$ и $c$, при которых система является несовместной."
   ]
  },
  {
   "cell_type": "code",
   "execution_count": 46,
   "id": "1bac70d4-42df-4e44-933c-393da81bbfcb",
   "metadata": {},
   "outputs": [
    {
     "ename": "SyntaxError",
     "evalue": "invalid syntax (<ipython-input-46-4cbc9714b4d1>, line 13)",
     "output_type": "error",
     "traceback": [
      "\u001b[0;36m  File \u001b[0;32m\"<ipython-input-46-4cbc9714b4d1>\"\u001b[0;36m, line \u001b[0;32m13\u001b[0m\n\u001b[0;31m    a = [for _ in range(0,100)]\u001b[0m\n\u001b[0m         ^\u001b[0m\n\u001b[0;31mSyntaxError\u001b[0m\u001b[0;31m:\u001b[0m invalid syntax\n"
     ]
    }
   ],
   "source": [
    "M1 = np.array([\n",
    "    [1,2,3],\n",
    "    [4,5,6],\n",
    "    [7,8,9]\n",
    "])\n",
    "\n",
    "M_ext = np.array([\n",
    "    [1,2,3,22],\n",
    "    [4,5,6,10],\n",
    "    [7,8,9,10]\n",
    "])\n",
    "\n",
    "a = [for _ in range(0,100)]\n",
    "b = [for _ in range(0,100)]\n",
    "c = [for _ in range(0,100)]\n",
    "\n",
    "\n",
    "M_with_abc = np.array([\n",
    "    [1,2,3,a],\n",
    "    [4,5,6, b],\n",
    "    [7,8,9, c]\n",
    "])\n",
    "\n",
    "# isRankSimilar(M1, M_with_abc)"
   ]
  },
  {
   "cell_type": "code",
   "execution_count": null,
   "id": "c5ea1bd4-4df5-42b0-b111-b53c3a3c0500",
   "metadata": {},
   "outputs": [],
   "source": [
    "isRankSimilar(M1, M_ext)"
   ]
  },
  {
   "cell_type": "code",
   "execution_count": null,
   "id": "18b4ed9a-eda4-4867-a064-881f7c20b33b",
   "metadata": {},
   "outputs": [],
   "source": []
  }
 ],
 "metadata": {
  "kernelspec": {
   "display_name": "Python 3 (ipykernel)",
   "language": "python",
   "name": "python3"
  },
  "language_info": {
   "codemirror_mode": {
    "name": "ipython",
    "version": 3
   },
   "file_extension": ".py",
   "mimetype": "text/x-python",
   "name": "python",
   "nbconvert_exporter": "python",
   "pygments_lexer": "ipython3",
   "version": "3.8.8"
  }
 },
 "nbformat": 4,
 "nbformat_minor": 5
}
