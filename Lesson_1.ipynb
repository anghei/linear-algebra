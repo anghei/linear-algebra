{
 "cells": [
  {
   "cell_type": "code",
   "execution_count": 1,
   "metadata": {},
   "outputs": [],
   "source": [
    "import numpy as np"
   ]
  },
  {
   "cell_type": "markdown",
   "metadata": {},
   "source": [
    "1. Исследовать на линейную зависимость:\n",
    "$$f_{1}(x)=e^{x}, f_{2}(x)=1, f_{3}(x)=x+1, f_{4}(x)=x-e^{x}.$$"
   ]
  },
  {
   "cell_type": "markdown",
   "metadata": {},
   "source": [
    "$f_{4}(x)=f_{3}(x)-f_{1}(x)-f_{2}(x)$, то есть вектор $f_{4}(x)$ — линейная комбинация векторов $f_{1}(x)$,$f_{2}(x)$  и $f_{3}(x)$, из чего можно сделать вывод, что представленные вектора линейно зависимы."
   ]
  },
  {
   "cell_type": "markdown",
   "metadata": {},
   "source": [
    "__2.__ Исследовать на линейную зависимость:\n",
    "$$f_{1}(x)=2, f_{2}(x)=x, f_{3}(x)=x^{2}, f_{4}(x)=(x+1)^{2}=x^{2}+2x+1.$$"
   ]
  },
  {
   "cell_type": "markdown",
   "metadata": {},
   "source": [
    "$f_{4}(x)=f_{3}(x)+2f_{2}(x)+f_{1}(x)*1/2$, то есть вектор $f_{4}(x)$ — линейная комбинация векторов $f_{1}(x)$,$f_{2}(x)$  и $f_{3}(x)$, из чего можно сделать вывод, что представленные вектора линейно зависимы."
   ]
  },
  {
   "cell_type": "markdown",
   "metadata": {},
   "source": [
    "__3.__ Найти координаты вектора $x = (2, 3, 5)\\in \\mathbb{R}^{3}$ в базисе $b_{1}=(0, 0, 10)$, $b_{2}=(2, 0, 0)$, $b_{3}=(0, 1, 0)$"
   ]
  },
  {
   "cell_type": "code",
   "execution_count": 2,
   "metadata": {},
   "outputs": [],
   "source": [
    "e1 = np.array([1,0,0])\n",
    "e2 = np.array([0,3,0])\n",
    "e3 = np.array([0,0,9])\n",
    "x = np.array([3,-2,2])"
   ]
  },
  {
   "cell_type": "code",
   "execution_count": 3,
   "metadata": {},
   "outputs": [
    {
     "data": {
      "text/plain": [
       "27.0"
      ]
     },
     "execution_count": 3,
     "metadata": {},
     "output_type": "execute_result"
    }
   ],
   "source": [
    "A = np.array([e1, e2, e3])\n",
    "A_inverse = np.linalg.det(A)\n",
    "A_inverse"
   ]
  },
  {
   "cell_type": "code",
   "execution_count": 4,
   "metadata": {},
   "outputs": [],
   "source": [
    "e1 = np.array([0,0,10])\n",
    "e2 = np.array([2,0,0])\n",
    "e3 = np.array([0,1,0])\n",
    "x = np.array([2,3,5])"
   ]
  },
  {
   "cell_type": "code",
   "execution_count": 5,
   "metadata": {},
   "outputs": [
    {
     "data": {
      "text/plain": [
       "array([[ 0,  2,  0],\n",
       "       [ 0,  0,  1],\n",
       "       [10,  0,  0]])"
      ]
     },
     "execution_count": 5,
     "metadata": {},
     "output_type": "execute_result"
    }
   ],
   "source": [
    "A = np.array([e1, e2, e3]).transpose()\n",
    "A"
   ]
  },
  {
   "cell_type": "code",
   "execution_count": 6,
   "metadata": {},
   "outputs": [
    {
     "data": {
      "text/plain": [
       "array([[0. , 0. , 0.1],\n",
       "       [0.5, 0. , 0. ],\n",
       "       [0. , 1. , 0. ]])"
      ]
     },
     "execution_count": 6,
     "metadata": {},
     "output_type": "execute_result"
    }
   ],
   "source": [
    "A_inverse = np.linalg.inv(A)\n",
    "A_inverse"
   ]
  },
  {
   "cell_type": "code",
   "execution_count": 7,
   "metadata": {},
   "outputs": [
    {
     "data": {
      "text/plain": [
       "array([0.5, 1. , 3. ])"
      ]
     },
     "execution_count": 7,
     "metadata": {},
     "output_type": "execute_result"
    }
   ],
   "source": [
    "vector = np.dot(A_inverse, x)\n",
    "vector"
   ]
  },
  {
   "cell_type": "markdown",
   "metadata": {},
   "source": [
    "__4.__ Найти координаты вектора $3x^{2}-2x+2\\in\\mathbb{R}^{3}[x]$:\n",
    "\n",
    "а) в базисе $1$, $x$, $x^{2}$;\n",
    "\n",
    "б) в базисе $x^{2}$, $x-1$, $1$."
   ]
  },
  {
   "cell_type": "code",
   "execution_count": 13,
   "metadata": {},
   "outputs": [],
   "source": [
    "def basis_vector(basis: list, vector: list):\n",
    "    \"\"\"\n",
    "    -----------\n",
    "    Функция, определяющая координаты вектора в заданном базисе.\n",
    "    \n",
    "    В качестве аргумента принимает координаты базиса и исходного вектора.\n",
    "    Оба аргумента задаются в виде списка.\n",
    "    -----------\n",
    "    \"\"\"\n",
    "    e1 = np.array([basis[0], 0, 0])\n",
    "    e2 = np.array([0, basis[1], 0])\n",
    "    e3 = np.array([0, 0, basis[2]])\n",
    "    M = np.array([e1, e2, e3])\n",
    "    D_M = np.linalg.det(M)\n",
    "    v1 = np.array([vector[0], vector[1], vector[2]])\n",
    "    X = np.linalg.solve(M, v1)\n",
    "    return X"
   ]
  },
  {
   "cell_type": "code",
   "execution_count": 9,
   "metadata": {},
   "outputs": [
    {
     "name": "stdout",
     "output_type": "stream",
     "text": [
      "а) Координаты вектора (3.0, -0.7, 0.2)\n",
      "а) Координаты вектора (0.3, -1.0, 2.0)\n"
     ]
    }
   ],
   "source": [
    "X = basis_vector(basis=[1,3,9], vector=[3,-2,2])\n",
    "print(f'а) Координаты вектора {round(X[0],1), round(X[1],1), round(X[2],1)}')\n",
    "X = basis_vector(basis=[9,2,1], vector=[3,-2,2])\n",
    "print(f'а) Координаты вектора {round(X[0],1), round(X[1],1), round(X[2],1)}')"
   ]
  },
  {
   "cell_type": "code",
   "execution_count": null,
   "metadata": {},
   "outputs": [],
   "source": []
  }
 ],
 "metadata": {
  "kernelspec": {
   "display_name": "Python 3",
   "language": "python",
   "name": "python3"
  },
  "language_info": {
   "codemirror_mode": {
    "name": "ipython",
    "version": 3
   },
   "file_extension": ".py",
   "mimetype": "text/x-python",
   "name": "python",
   "nbconvert_exporter": "python",
   "pygments_lexer": "ipython3",
   "version": "3.8.5"
  }
 },
 "nbformat": 4,
 "nbformat_minor": 4
}
